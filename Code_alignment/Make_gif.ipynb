{
 "cells": [
  {
   "cell_type": "code",
   "execution_count": 1,
   "metadata": {},
   "outputs": [],
   "source": [
    "import numpy as np\n",
    "import imageio, os"
   ]
  },
  {
   "cell_type": "code",
   "execution_count": 2,
   "metadata": {},
   "outputs": [],
   "source": [
    "''' IO '''\n",
    "E0 = 9481\n",
    "path = '../Alignment_Results/'\n",
    "case_path = path+'{} eV_align/'.format(E0)\n",
    "fig_path = case_path+'roc_scan/'\n"
   ]
  },
  {
   "cell_type": "code",
   "execution_count": 3,
   "metadata": {},
   "outputs": [],
   "source": [
    "''' profile '''\n",
    "# get names\n",
    "filenames = []\n",
    "for filename in os.listdir(fig_path):\n",
    "    if filename.startswith('profile'):\n",
    "        filenames.append(fig_path+filename)\n",
    "\n",
    "# make gif\n",
    "images = []\n",
    "for filename in filenames:\n",
    "    images.append(imageio.imread(filename))\n",
    "imageio.mimsave(fig_path+'profile_all.gif', images, duration=5/len(filenames))"
   ]
  },
  {
   "cell_type": "code",
   "execution_count": 6,
   "metadata": {},
   "outputs": [],
   "source": [
    "''' Tslice '''\n",
    "for dim in ['x','y']:\n",
    "    # get names\n",
    "    filenames = []\n",
    "    for filename in os.listdir(fig_path):\n",
    "        if filename.startswith('Tslice_{}'.format(dim)):\n",
    "            filenames.append(fig_path+filename)\n",
    "\n",
    "    # make gif\n",
    "    images = []\n",
    "    for filename in filenames:\n",
    "        images.append(imageio.imread(filename))\n",
    "    imageio.mimsave(fig_path+'Tslice_{}_all.gif'.format(dim), images, duration=20/len(filenames))"
   ]
  },
  {
   "cell_type": "code",
   "execution_count": 5,
   "metadata": {},
   "outputs": [],
   "source": [
    "''' Eslice '''\n",
    "for dim in ['x','y']:\n",
    "    # get names\n",
    "    filenames = []\n",
    "    for filename in os.listdir(fig_path):\n",
    "        if filename.startswith('Eslice_{}'.format(dim)):\n",
    "            filenames.append(fig_path+filename)\n",
    "\n",
    "    # make gif\n",
    "    images = []\n",
    "    for filename in filenames:\n",
    "        images.append(imageio.imread(filename))\n",
    "    imageio.mimsave(fig_path+'Eslice_{}_all.gif'.format(dim), images, duration=5/len(filenames))"
   ]
  }
 ],
 "metadata": {
  "kernelspec": {
   "display_name": "Python 3",
   "language": "python",
   "name": "python3"
  },
  "language_info": {
   "codemirror_mode": {
    "name": "ipython",
    "version": 3
   },
   "file_extension": ".py",
   "mimetype": "text/x-python",
   "name": "python",
   "nbconvert_exporter": "python",
   "pygments_lexer": "ipython3",
   "version": "3.7.6"
  }
 },
 "nbformat": 4,
 "nbformat_minor": 4
}
