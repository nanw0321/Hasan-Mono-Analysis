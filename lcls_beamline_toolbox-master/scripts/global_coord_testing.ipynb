{
 "cells": [
  {
   "cell_type": "code",
   "execution_count": 1,
   "metadata": {},
   "outputs": [],
   "source": [
    "%matplotlib notebook\n",
    "import numpy as np\n",
    "import matplotlib.pyplot as plt\n",
    "from lcls_beamline_toolbox.xraybeamline2d import beam1d as beam, optics1d as optics, beamline1d as beamline"
   ]
  },
  {
   "cell_type": "markdown",
   "metadata": {},
   "source": [
    "### Beam parameters"
   ]
  },
  {
   "cell_type": "code",
   "execution_count": 3,
   "metadata": {},
   "outputs": [],
   "source": [
    "# number of sampling points\n",
    "N = 2048\n",
    "# photon energy in eV\n",
    "E0 = 9000\n",
    "\n",
    "# parameter dictionary. z_source is in LCLS coordinates (20 meters upstream of undulator exit)\n",
    "beam_params = {\n",
    "    'photonEnergy': E0,\n",
    "    'N': N,\n",
    "    'sigma_x': 15e-6,\n",
    "    'sigma_y': 15e-6,\n",
    "    'rangeFactor': 5,\n",
    "    'scaleFactor': 10,\n",
    "    'z_source': 630\n",
    "}"
   ]
  },
  {
   "cell_type": "markdown",
   "metadata": {},
   "source": [
    "### Define beamline"
   ]
  },
  {
   "cell_type": "code",
   "execution_count": 14,
   "metadata": {
    "scrolled": false
   },
   "outputs": [
    {
     "name": "stdout",
     "output_type": "stream",
     "text": [
      "FWHM in x: 25.031580054003783 microns\n",
      "FWHM in y: 25.031580054003783 microns\n",
      "FWHM Divergence (x): 3.4 μrad\n",
      "FWHM Divergence (y): 3.4 μrad\n",
      "5.131251107855566\n",
      "5.131251107855566\n",
      "x is focused\n",
      "y is focused\n",
      "b 1.00\n",
      "b 1.00\n",
      "b 1.00\n",
      "after c1: 0.87\n",
      "after c2: 0.87\n",
      "after c3: 0.00\n"
     ]
    }
   ],
   "source": [
    "# crystal asymmetry angle\n",
    "alphaAsym = 19.88*np.pi/180\n",
    "\n",
    "# distance between crystal 2 and 1st CRL, 2nd CRL and crystal 4 \n",
    "f1 = 2.997\n",
    "# distance between CRLs and focus\n",
    "f2 = 3.03\n",
    "\n",
    "# crystal reflection hkl index\n",
    "hkl = [3,1,1]\n",
    "\n",
    "# initialize the beam\n",
    "b1 = beam.Beam(beam_params=beam_params)\n",
    "\n",
    "# first crystal: symmetric reflection\n",
    "crystal1 = optics.Crystal('c1', hkl=hkl, length=10e-2, width=20e-3, z=880, E0=E0,\n",
    "                          alphaAsym=0, orientation=1, pol='s')\n",
    "\n",
    "# second crystal: asymmetric reflection, orientation flipped relative to crystal1\n",
    "crystal2 = optics.Crystal('c2', hkl=hkl, length=10e-2, width=20e-3, z=crystal1.z+.2, E0=E0,alphaAsym=0, \n",
    "                          orientation=0,pol='s')\n",
    "\n",
    "crystal3 = optics.Crystal('c3', hkl=hkl, length=10e-2, width=20e-3, z = crystal2.z + .2, E0=E0, alphaAsym=0, \n",
    "                          orientation=3, pol='s')\n",
    "\n",
    "im1 = optics.PPM('im1', z=crystal2.z+1, FOV=3e-3, N=256)\n",
    "\n",
    "\n",
    "# list of devices to propagate through\n",
    "devices = [crystal1, crystal2, crystal3, im1]\n",
    "# devices = [im0,crystal1,crystal2,im_upstream, im1, crl1, focus, crl2, crystal3, crystal4, im2]\n",
    "\n",
    "# initialize beamline\n",
    "mono_beamline = beamline.Beamline(devices)"
   ]
  },
  {
   "cell_type": "code",
   "execution_count": 19,
   "metadata": {},
   "outputs": [
    {
     "name": "stdout",
     "output_type": "stream",
     "text": [
      "<lcls_beamline_toolbox.xraybeamline2d.optics1d.Crystal object at 0x124693438>\n",
      "<lcls_beamline_toolbox.xraybeamline2d.optics1d.Drift object at 0x124668780>\n",
      "<lcls_beamline_toolbox.xraybeamline2d.optics1d.Crystal object at 0x10856b320>\n",
      "<lcls_beamline_toolbox.xraybeamline2d.optics1d.Drift object at 0x1246688d0>\n",
      "<lcls_beamline_toolbox.xraybeamline2d.optics1d.Crystal object at 0x10856b3c8>\n",
      "<lcls_beamline_toolbox.xraybeamline2d.optics1d.Drift object at 0x124668978>\n",
      "<lcls_beamline_toolbox.xraybeamline2d.optics1d.PPM object at 0x124464c88>\n",
      "0.472566376308511\n",
      "0.36572360558971656\n"
     ]
    }
   ],
   "source": [
    "for item in mono_beamline.full_list:\n",
    "    print(item)\n",
    "    \n",
    "print(mono_beamline.c3.global_y)\n",
    "print(mono_beamline.c3.global_x)"
   ]
  },
  {
   "cell_type": "code",
   "execution_count": 16,
   "metadata": {},
   "outputs": [
    {
     "name": "stdout",
     "output_type": "stream",
     "text": [
      "FWHM in x: 862.5444129605669 microns\n",
      "FWHM in y: 862.5444129605669 microns\n",
      "FWHM Divergence (x): 3.4 μrad\n",
      "FWHM Divergence (y): 3.4 μrad\n",
      "5.131251107855566\n",
      "5.131251107855566\n",
      "\u001b[1mc1\u001b[0m\n",
      "Calculated distance to focus: -250.000000\n",
      "zRx: 7.37e+01\n",
      "zRy: 7.37e+01\n",
      "zx: 250.000000\n",
      "zy: 250.000000\n",
      "azimuth 0.00 mrad\n",
      "\u001b[1mdrift1\u001b[0m\n",
      "global_x 0.00\n",
      "global_y 0.00\n",
      "delta z: 0.00\n",
      "zRx: 73744655.19 microns\n",
      "zRy: 73744655.19 microns\n",
      "remaining distance: 309563.80 microns\n",
      "goal for zx: 250309563.80 microns\n",
      "current zx: 250000000.00 microns\n",
      "goal for zy: 250309563.80 microns\n",
      "current zy: 250000000.00 microns\n",
      "zx: 250.309564\n",
      "zy: 250.309564\n",
      "azimuth 0.00 mrad\n",
      "\u001b[1mc2\u001b[0m\n",
      "Calculated distance to focus: -250.309564\n",
      "zRx: 7.37e+01\n",
      "zRy: 7.37e+01\n",
      "zx: 250.309564\n",
      "zy: 250.309564\n",
      "azimuth 868.37 mrad\n",
      "\u001b[1mdrift2\u001b[0m\n",
      "global_x 0.00\n",
      "global_y 0.24\n",
      "delta z: 0.00\n",
      "zRx: 73744655.19 microns\n",
      "zRy: 73744655.19 microns\n",
      "remaining distance: 479148.73 microns\n",
      "goal for zx: 250788712.52 microns\n",
      "current zx: 250309563.80 microns\n",
      "goal for zy: 250788712.52 microns\n",
      "current zy: 250309563.80 microns\n",
      "zx: 250.788713\n",
      "zy: 250.788713\n",
      "azimuth 868.37 mrad\n",
      "\u001b[1mc3\u001b[0m\n",
      "Calculated distance to focus: -250.788713\n",
      "zRx: 7.37e+01\n",
      "zRy: 7.37e+01\n",
      "zx: 250.788713\n",
      "zy: 250.788713\n",
      "azimuth 868.37 mrad\n",
      "\u001b[1mdrift3\u001b[0m\n",
      "global_x 0.37\n",
      "global_y 0.47\n",
      "delta z: -0.00\n",
      "zRx: 73744655.19 microns\n",
      "zRy: 73744655.19 microns\n",
      "remaining distance: 1238255.19 microns\n",
      "goal for zx: 252026967.71 microns\n",
      "current zx: 250788712.52 microns\n",
      "goal for zy: 252026967.71 microns\n",
      "current zy: 250788712.52 microns\n",
      "zx: 252.026968\n",
      "zy: 252.026968\n",
      "azimuth 868.37 mrad\n",
      "\u001b[1mim1\u001b[0m\n",
      "zx: 252.026968\n",
      "zy: 252.026968\n",
      "azimuth 868.37 mrad\n"
     ]
    },
    {
     "data": {
      "text/plain": [
       "<lcls_beamline_toolbox.xraybeamline2d.beam1d.Beam at 0x12474dd68>"
      ]
     },
     "execution_count": 16,
     "metadata": {},
     "output_type": "execute_result"
    }
   ],
   "source": [
    "mono_beamline.propagate_beamline(b1)"
   ]
  },
  {
   "cell_type": "code",
   "execution_count": null,
   "metadata": {},
   "outputs": [],
   "source": []
  }
 ],
 "metadata": {
  "kernelspec": {
   "display_name": "Python 3",
   "language": "python",
   "name": "python3"
  },
  "language_info": {
   "codemirror_mode": {
    "name": "ipython",
    "version": 3
   },
   "file_extension": ".py",
   "mimetype": "text/x-python",
   "name": "python",
   "nbconvert_exporter": "python",
   "pygments_lexer": "ipython3",
   "version": "3.7.3"
  }
 },
 "nbformat": 4,
 "nbformat_minor": 2
}
