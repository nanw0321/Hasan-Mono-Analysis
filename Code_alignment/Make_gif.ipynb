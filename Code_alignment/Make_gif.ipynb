{
 "cells": [
  {
   "cell_type": "code",
   "execution_count": 28,
   "metadata": {},
   "outputs": [],
   "source": [
    "import numpy as np\n",
    "import imageio, os"
   ]
  },
  {
   "cell_type": "code",
   "execution_count": 29,
   "metadata": {},
   "outputs": [],
   "source": [
    "''' IO '''\n",
    "E0 = 9481\n",
    "n_img = 100\n",
    "path = '../Alignment_Results/'\n",
    "case_path = path+'{} eV_align/'.format(E0)\n",
    "fig_path = case_path+'roc_scan/'\n"
   ]
  },
  {
   "cell_type": "code",
   "execution_count": 45,
   "metadata": {},
   "outputs": [],
   "source": [
    "def key(filename):\n",
    "    return filename.split(\"roc=\",1)[1] .split(\".png\",1)[0]\n"
   ]
  },
  {
   "cell_type": "code",
   "execution_count": 46,
   "metadata": {},
   "outputs": [],
   "source": [
    "''' profile '''\n",
    "# get names\n",
    "filenames = []\n",
    "for filename in os.listdir(fig_path):\n",
    "    if filename.startswith('profile'):\n",
    "        if filename.endswith('png'):\n",
    "            filenames.append(fig_path+filename)\n",
    "filenames.sort(key = key)\n",
    "# make gif\n",
    "images = []\n",
    "for filename in filenames:\n",
    "    images.append(imageio.imread(filename))\n",
    "imageio.mimsave(fig_path+'profile_all.gif', images, duration=5/len(filenames))"
   ]
  },
  {
   "cell_type": "code",
   "execution_count": 47,
   "metadata": {},
   "outputs": [],
   "source": [
    "''' Tslice '''\n",
    "for dim in ['x','y']:\n",
    "    # get names\n",
    "    filenames = []\n",
    "    for filename in os.listdir(fig_path):\n",
    "        if filename.startswith('Tslice_{}'.format(dim)):\n",
    "            if filename.endswith('png'):\n",
    "                filenames.append(fig_path+filename)\n",
    "    filenames.sort(key = key)\n",
    "    # make gif\n",
    "    images = []\n",
    "    for filename in filenames:\n",
    "        images.append(imageio.imread(filename))\n",
    "    imageio.mimsave(fig_path+'Tslice_{}_all.gif'.format(dim), images, duration=20/len(filenames))"
   ]
  },
  {
   "cell_type": "code",
   "execution_count": 48,
   "metadata": {},
   "outputs": [],
   "source": [
    "''' Eslice '''\n",
    "for dim in ['x','y']:\n",
    "    # get names\n",
    "    filenames = []\n",
    "    for filename in os.listdir(fig_path):\n",
    "        if filename.startswith('Eslice_{}'.format(dim)):\n",
    "            if filename.endswith('png'):\n",
    "                filenames.append(fig_path+filename)\n",
    "    filenames.sort(key = key)\n",
    "    # make gif\n",
    "    images = []\n",
    "    for filename in filenames:\n",
    "        images.append(imageio.imread(filename))\n",
    "    imageio.mimsave(fig_path+'Eslice_{}_all.gif'.format(dim), images, duration=5/len(filenames))"
   ]
  }
 ],
 "metadata": {
  "kernelspec": {
   "display_name": "Python 3",
   "language": "python",
   "name": "python3"
  },
  "language_info": {
   "codemirror_mode": {
    "name": "ipython",
    "version": 3
   },
   "file_extension": ".py",
   "mimetype": "text/x-python",
   "name": "python",
   "nbconvert_exporter": "python",
   "pygments_lexer": "ipython3",
   "version": "3.7.6"
  }
 },
 "nbformat": 4,
 "nbformat_minor": 4
}
