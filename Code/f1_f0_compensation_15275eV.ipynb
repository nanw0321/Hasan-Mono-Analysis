{
 "cells": [
  {
   "cell_type": "code",
   "execution_count": 1,
   "metadata": {},
   "outputs": [],
   "source": [
    "#%matplotlib notebook\n",
    "import time, winsound, h5py\n",
    "import numpy as np\n",
    "import matplotlib.pyplot as plt\n",
    "from lcls_beamline_toolbox.xraybeamline2d import beam1d as beam, optics1d as optics, beamline1d as beamline"
   ]
  },
  {
   "cell_type": "markdown",
   "metadata": {},
   "source": [
    "### Beam parameters"
   ]
  },
  {
   "cell_type": "code",
   "execution_count": 2,
   "metadata": {},
   "outputs": [],
   "source": [
    "# number of sampling points\n",
    "N = 2048\n",
    "# photon energy in eV\n",
    "E0 = 15275\n",
    "\n",
    "# parameter dictionary. z_source is in LCLS coordinates (20 meters upstream of undulator exit)\n",
    "beam_params = {\n",
    "    'photonEnergy': E0,\n",
    "    'N': N,\n",
    "    'sigma_x': 23e-6,\n",
    "    'sigma_y': 23e-6,\n",
    "    'rangeFactor': 5,\n",
    "    'scaleFactor': 10,\n",
    "    'z_source': 630\n",
    "}"
   ]
  },
  {
   "cell_type": "code",
   "execution_count": 3,
   "metadata": {},
   "outputs": [],
   "source": [
    "def define_devices(\n",
    "    f1, f2, slit_width = 500e-6, alphaAsym = np.deg2rad(34.35), E0=E0, f0 = 290., d23=7.):\n",
    "    # crystal reflection hkl index\n",
    "    hkl = [6,6,0]\n",
    "\n",
    "    # viewing point upstream of monochromator\n",
    "    im0 = optics.PPM('im0', z=870, FOV=2e-3, N=256)\n",
    "    crl0 = optics.CRL('crl0', z=920, E0=E0, f=f0, diameter=2e-3)\n",
    "\n",
    "    # first crystal: symmetric reflection\n",
    "    crystal1 = optics.Crystal('c1', hkl=hkl, length=10e-2, width=20e-3, z=930, E0=E0,\n",
    "                              alphaAsym=0, orientation=0, pol='s', delta=0.e-6)\n",
    "\n",
    "    # second crystal: asymmetric reflection, orientation flipped relative to crystal1\n",
    "    crystal2 = optics.Crystal('c2', hkl=hkl, length=10e-2, width=20e-3, z=crystal1.z+.2, E0=E0,alphaAsym=alphaAsym, \n",
    "                              orientation=2,pol='s', delta=0e-6)\n",
    "    # printing crystal incidence and reflection angles for confirmation\n",
    "    print('crystal 2 incidence angle: {:.2f} degrees'.format(crystal2.alpha*180/np.pi))\n",
    "    print('crystal 2 exit angle: {:.2f} degrees'.format(crystal2.beta0*180/np.pi))\n",
    "\n",
    "    im_upstream = optics.PPM('im_upstream', z=crystal2.z + f1 - .1, FOV=2e-3, N=256)\n",
    "\n",
    "    # CRL with ~1 meter focal length (modeled as single element for now)\n",
    "    crl1 = optics.CRL('crl1', z=crystal2.z+f1, E0=E0, f=f2, diameter=5e-3)\n",
    "\n",
    "    # viewing point downstream of first crl\n",
    "    im1 = optics.PPM('im1', z=crl1.z+.1,N=256,FOV=2e-3)\n",
    "\n",
    "    # viewing point at focus\n",
    "    focus = optics.PPM('focus', z=crl1.z+f2, FOV=100e-6, N=256)\n",
    "\n",
    "    # slit at focus\n",
    "    slit = optics.Slit('slit', z=crl1.z+f2 + 1e-3, x_width=slit_width, y_width=2e-3)\n",
    "\n",
    "    # second CRL with ~1 meter focal length, for collimation\n",
    "    crl2 = optics.CRL('crl2', z=crl1.z+2*f2, E0=E0, f=f2, diameter=5e-3)\n",
    "\n",
    "    # third crystal, symmetric reflection, same orientation as crystal2\n",
    "    crystal3 = optics.Crystal('c3', hkl=hkl, length=10e-2, width=10e-3, z=crl2.z+d23, E0=E0,alphaAsym=0, orientation=2,\n",
    "                             asym_type='emergence',pol='s')\n",
    "\n",
    "    # fourth crystal, asymmetric reflection, same orientation as crystal1\n",
    "    crystal4 = optics.Crystal('c4', hkl=hkl, length=10e-2, width=10e-3, z=crl2.z+d23 + (f1-d23)*np.cos(crystal1.beta0*2), E0=E0,alphaAsym=-alphaAsym, \n",
    "                              asym_type='emergence', orientation=0,pol='s')\n",
    "\n",
    "    # viewing point just downstream of monochromator\n",
    "    im2 = optics.PPM('im2', z=crystal4.z+.1, FOV=2e-3, N=256)\n",
    "\n",
    "    # list of devices to propagate through\n",
    "    devices = [crl0,im0,crystal1,crystal2,im_upstream, im1, crl1, focus, slit, crl2, crystal3, crystal4, im2]\n",
    "\n",
    "    return devices"
   ]
  },
  {
   "cell_type": "code",
   "execution_count": 4,
   "metadata": {},
   "outputs": [],
   "source": [
    "%%capture capt\n",
    "tstart = time.time()\n",
    "# initialize optical elements\n",
    "f1 = 9.828256513026052\n",
    "f2 = 10.\n",
    "\n",
    "devices = define_devices(f1, f2)\n",
    "\n",
    "# initialize beamline\n",
    "mono_beamline = beamline.Beamline(devices)\n",
    "\n",
    "for oe in devices:\n",
    "    if oe.name == 'c1':\n",
    "        print('crystal 1 incidence angle: {:.2f} degrees'.format(oe.alpha*180/np.pi))\n",
    "        print('crystal 1 exit angle: {:.2f} degrees\\n\\n\\n'.format(oe.beta0*180/np.pi))\n",
    "\n",
    "# propagate\n",
    "beam_params['photonEnergy'] = E0\n",
    "pulse = beam.Pulse(beam_params=beam_params, tau=100, time_window=2500)\n",
    "pulse.propagate(beamline=mono_beamline, screen_names=['focus','im2'])\n",
    "tfin = time.time()"
   ]
  },
  {
   "cell_type": "code",
   "execution_count": 5,
   "metadata": {},
   "outputs": [
    {
     "name": "stdout",
     "output_type": "stream",
     "text": [
      "each run: 5.79s, per slice: 103.31ms\n"
     ]
    },
    {
     "data": {
      "text/plain": [
       "' energy slices '"
      ]
     },
     "execution_count": 5,
     "metadata": {},
     "output_type": "execute_result"
    }
   ],
   "source": [
    "print('each run: {}s, per slice: {}ms'.format(round(tfin-tstart,2), round(1000*(tfin-tstart)/pulse.N,2)))\n",
    "''' energy slices '''"
   ]
  },
  {
   "cell_type": "markdown",
   "metadata": {},
   "source": [
    "### Loops"
   ]
  },
  {
   "cell_type": "code",
   "execution_count": 6,
   "metadata": {},
   "outputs": [],
   "source": [
    "%%capture capt\n",
    "tstart = time.time()\n",
    "N1 = 60\n",
    "N2 = 50\n",
    "f1_list = np.linspace(-0.05, 0.05, N1)+f1\n",
    "f0_list = np.linspace(-7.5,7.5,N2)+290.\n",
    "\n",
    "duration = np.zeros((N1,N2))\n",
    "\n",
    "for i, f1_ in enumerate(f1_list):\n",
    "    for j, f0_ in enumerate(f0_list):\n",
    "        devices = define_devices(f1_, f2, f0=f0_)\n",
    "        # initialize beamline\n",
    "        mono_beamline = beamline.Beamline(devices)\n",
    "        # reset central photon energy\n",
    "        beam_params['photonEnergy'] = E0\n",
    "\n",
    "        # initialize pulse. tau sets transform-limited pulse duration in fs (FWHM). Time window is in fs.\n",
    "        pulse = beam.Pulse(beam_params=beam_params, tau=400, time_window=10000)\n",
    "\n",
    "        print('Number of spectral components: {:d}'.format(pulse.N))\n",
    "        pulse.propagate(beamline=mono_beamline, screen_names=['im2'])\n",
    "        centroid, duration[i,j] = pulse.pulse_duration('im2')\n",
    "tfin = time.time()\n"
   ]
  },
  {
   "cell_type": "code",
   "execution_count": 7,
   "metadata": {},
   "outputs": [],
   "source": [
    "fig_path = \"C:/Users/nanw0/GoogleDrive/SLAC/SLAC-Diling/9. 20 Summer/Hasan Mono Analysis/Matt's_Plots/\"\n",
    "hkl = devices[2].hkl\n",
    "hkl = int(hkl[0]*100+hkl[1]*10+hkl[2])\n",
    "fname = 'compensation_{}_{}keV'.format(\n",
    "    hkl, round(beam_params['photonEnergy']/1000.,4))\n",
    "\n",
    "with h5py.File(fig_path+fname+'.h5','w') as f:\n",
    "    f.create_dataset('f1', data=f1_list)\n",
    "    f.create_dataset('f0', data=f0_list)\n",
    "    f.create_dataset('duration', data=duration)"
   ]
  },
  {
   "cell_type": "code",
   "execution_count": 16,
   "metadata": {},
   "outputs": [
    {
     "data": {
      "image/png": "[encoded data removed]",
      "text/plain": [
       "<Figure size 432x288 with 2 Axes>"
      ]
     },
     "metadata": {
      "needs_background": "light"
     },
     "output_type": "display_data"
    }
   ],
   "source": [
    "# plot range\n",
    "plt.figure()\n",
    "plt.imshow(duration, cmap='jet',\n",
    "          extent = [f0_list.min(), f0_list.max(), f1_list.max(), f1_list.min()])\n",
    "plt.colorbar()\n",
    "plt.clim((600,4000))\n",
    "plt.xlabel('f0')\n",
    "plt.ylabel('f1')\n",
    "plt.axis('tight')\n",
    "plt.title('pulse duration (fs) {}eV'.format(E0))\n",
    "plt.savefig(fig_path+fname+'.png')"
   ]
  }
 ],
 "metadata": {
  "kernelspec": {
   "display_name": "Python 3",
   "language": "python",
   "name": "python3"
  },
  "language_info": {
   "codemirror_mode": {
    "name": "ipython",
    "version": 3
   },
   "file_extension": ".py",
   "mimetype": "text/x-python",
   "name": "python",
   "nbconvert_exporter": "python",
   "pygments_lexer": "ipython3",
   "version": "3.7.6"
  }
 },
 "nbformat": 4,
 "nbformat_minor": 4
}
